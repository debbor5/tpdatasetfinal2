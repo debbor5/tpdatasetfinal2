{
  "nbformat": 4,
  "nbformat_minor": 0,
  "metadata": {
    "colab": {
      "provenance": [],
      "authorship_tag": "ABX9TyPXIpWWpY9VUroqRYdl0/ZH",
      "include_colab_link": true
    },
    "kernelspec": {
      "name": "python3",
      "display_name": "Python 3"
    },
    "language_info": {
      "name": "python"
    }
  },
  "cells": [
    {
      "cell_type": "markdown",
      "metadata": {
        "id": "view-in-github",
        "colab_type": "text"
      },
      "source": [
        "<a href=\"https://colab.research.google.com/github/debbor5/tpdatasetfinal2/blob/main/tp_debora_bordon.ipynb\" target=\"_parent\"><img src=\"https://colab.research.google.com/assets/colab-badge.svg\" alt=\"Open In Colab\"/></a>"
      ]
    },
    {
      "cell_type": "markdown",
      "source": [
        "## Educacion en República Argentina- 2023"
      ],
      "metadata": {
        "id": "-BV-vcF3ORgr"
      }
    },
    {
      "cell_type": "markdown",
      "source": [
        "#### El presente proyecto tiene como objetivo analizar la situación educativa en la República Argentina a partir de datos obtenidos del portal oficial del Gobierno de la Nación Argentina: https://datos.gob.ar/dataset. El estudio se basa en los diez principales centros urbanos del país, determinados según el Censo Nacional de Población, Hogares y Viviendas 2022, elaborado por el Instituto Nacional de Estadística y Censos (INDEC).\n",
        "#### Estos aglomerados: Gran Buenos Aires, Ciudad Autónoma de Buenos Aires, Ciudad de Córdoba Capital, Rosario, Ciudad de Mendoza Capital, San Miguel de Tucumán, Ciudad de Santa Fe Capital, La Plata, Ciudad de Salta Capital y General Pueyrredon, concentran la mayor parte de la población nacional y reflejan la diversidad social, económica y cultural del territorio argentino.\n",
        "#### El análisis se orienta a examinar la relación entre edad, grado escolar y tipo de institución educativa (estatal o privada), con el propósito de identificar diferencias y patrones en el ingreso al sistema educativo de la población. Para esto, se procederá al análisis de la base de datos que incluye la totalidad de las matrículas de inscripciones de la población estudiantil en el año 2023. La información se encuentra clasificadas por provincia, departamento, sector de gestión, ámbito, y grado en el cual se efectuó la inscripción.\n",
        "#### De este modo, y luego de proceder a la limpieza, normalización, análisis y mediante diversos gráficos, se busca aportar una visión integral sobre las desigualdades y desafíos que enfrenta la educación en los principales núcleos urbanos del país, contribuyendo al desarrollo de políticas y estrategias que promuevan una mayor equidad educativa.\n"
      ],
      "metadata": {
        "id": "Pk2iYbb7QEtH"
      }
    },
    {
      "cell_type": "markdown",
      "source": [
        "## Hipótesis"
      ],
      "metadata": {
        "id": "nB2x3mMhA8Lz"
      }
    },
    {
      "cell_type": "markdown",
      "source": [
        "#### En los centro urbanos con mayor desarrollo económico, la proporción de matrículas en instituciones privadas es significativamente mayor que en los centros urbanos con menor desarrollo."
      ],
      "metadata": {
        "id": "8ck5ZEHsBDId"
      }
    },
    {
      "cell_type": "markdown",
      "source": [
        "## Objetivo General"
      ],
      "metadata": {
        "id": "BrGihRQhByfZ"
      }
    },
    {
      "cell_type": "markdown",
      "source": [
        "#### Analizar cómo varia la elección del tipo de gestión educativa (pública o privada) según el centro urbano, considerando la edad y el grado de los alumnos inscriptos"
      ],
      "metadata": {
        "id": "zkJeiZaOCEhC"
      }
    },
    {
      "cell_type": "markdown",
      "source": [
        "## Objetivos Específicos"
      ],
      "metadata": {
        "id": "tfRS5bd9CmJV"
      }
    },
    {
      "cell_type": "markdown",
      "source": [
        "#### 1. Comparar la proporción de alumnos inscriptos en gestión privada versus la gestión estatal.\n",
        "#### 2. Evaluar si la edad o el grado de los alumnos se asocia con un tipo de gestión en particular.\n",
        "#### 3. Identificar patrones de desigualdad en el acceso a la educación pública y privada de acuerdo a la locación."
      ],
      "metadata": {
        "id": "3etAibseGatV"
      }
    },
    {
      "cell_type": "code",
      "execution_count": 15,
      "metadata": {
        "id": "yxZW0qKtDQ9u"
      },
      "outputs": [],
      "source": [
        "import pandas as pd"
      ]
    },
    {
      "cell_type": "code",
      "source": [
        "import numpy as np"
      ],
      "metadata": {
        "id": "tyQfXFQ_DX4O"
      },
      "execution_count": 2,
      "outputs": []
    },
    {
      "cell_type": "code",
      "source": [
        "import matplotlib.pyplot as plt"
      ],
      "metadata": {
        "id": "3f0x0IeiDn5e"
      },
      "execution_count": 3,
      "outputs": []
    },
    {
      "cell_type": "code",
      "source": [
        "import seaborn as sns"
      ],
      "metadata": {
        "id": "0NlFiyQPD7ho"
      },
      "execution_count": 4,
      "outputs": []
    },
    {
      "cell_type": "code",
      "source": [
        "df= pd.read_csv(\"https://raw.githubusercontent.com/debbor5/tpdatasetfinal2/refs/heads/main/2023%20Matricula%20por%20edad%20en%20principales%20centros%20urbanos.csv\" , sep= \";\" )\n"
      ],
      "metadata": {
        "id": "IOFvP9vvD-7M"
      },
      "execution_count": 5,
      "outputs": []
    },
    {
      "cell_type": "code",
      "source": [
        "print(df.head())"
      ],
      "metadata": {
        "colab": {
          "base_uri": "https://localhost:8080/"
        },
        "id": "xQP2Z-ReE13L",
        "outputId": "67839fc3-4471-4cd7-9b34-3fffbae31362"
      },
      "execution_count": 6,
      "outputs": [
        {
          "output_type": "stream",
          "name": "stdout",
          "text": [
            "      provincia     departamento   sector  ambito    grado  0años   1año  \\\n",
            "0  Buenos Aires  ALMIRANTE BROWN  Estatal  Urbano       1°                 \n",
            "1  Buenos Aires  ALMIRANTE BROWN  Estatal  Urbano      10°                 \n",
            "2  Buenos Aires  ALMIRANTE BROWN  Estatal  Urbano      11°                 \n",
            "3  Buenos Aires  ALMIRANTE BROWN  Estatal  Urbano      12°                 \n",
            "4  Buenos Aires  ALMIRANTE BROWN  Estatal  Urbano  13°/14°                 \n",
            "\n",
            "   2años  3años  4años  ... 21años 22años 23años 24años 25años 26años 27años  \\\n",
            "0                       ...                                                    \n",
            "1                       ...                                                    \n",
            "2                       ...                                                    \n",
            "3                       ...                                                    \n",
            "4                       ...                                                    \n",
            "\n",
            "  28años 29años 30añosymás  \n",
            "0                           \n",
            "1                           \n",
            "2                           \n",
            "3                           \n",
            "4                           \n",
            "\n",
            "[5 rows x 36 columns]\n"
          ]
        }
      ]
    },
    {
      "cell_type": "code",
      "source": [
        "df.shape"
      ],
      "metadata": {
        "colab": {
          "base_uri": "https://localhost:8080/"
        },
        "id": "Kdj2Tx1AKfId",
        "outputId": "cd92c16d-cbcb-4efc-c329-92d8e72410fb"
      },
      "execution_count": 7,
      "outputs": [
        {
          "output_type": "execute_result",
          "data": {
            "text/plain": [
              "(2008, 36)"
            ]
          },
          "metadata": {},
          "execution_count": 7
        }
      ]
    },
    {
      "cell_type": "code",
      "source": [
        "df.columns"
      ],
      "metadata": {
        "colab": {
          "base_uri": "https://localhost:8080/"
        },
        "id": "byvaGRNBNGWn",
        "outputId": "6aa80717-7b1f-4952-c409-013026842893"
      },
      "execution_count": 8,
      "outputs": [
        {
          "output_type": "execute_result",
          "data": {
            "text/plain": [
              "Index(['provincia', 'departamento', 'sector', 'ambito', 'grado', '0años',\n",
              "       '1año', '2años', '3años', '4años', '5años', '6años', '7años', '8años',\n",
              "       '9años', '10años', '11años', '12años', '13años', '14años', '15años',\n",
              "       '16años', '17años', '18años', '19años', '20años', '21años', '22años',\n",
              "       '23años', '24años', '25años', '26años', '27años', '28años', '29años',\n",
              "       '30añosymás'],\n",
              "      dtype='object')"
            ]
          },
          "metadata": {},
          "execution_count": 8
        }
      ]
    },
    {
      "cell_type": "code",
      "source": [
        "# Genero una lista de columnas para utilizar en mi DataFrame\n",
        "# Convierto cualquier valor inválido a NAN\n",
        "# Reemplazo los NAN por 0 (cero)\n",
        "# Finalmente convierto todos los números a tipo enteros\n",
        "\n",
        "\n",
        "cols = [\"0años\", \"1año\", \"2años\", \"3años\",\"4años\", \"5años\", \"6años\", \"7años\", \"8años\", \"9años\", \"10años\", \"11años\", \"12años\", \"13años\", \"14años\", \"15años\", \"16años\", \"17años\", \"18años\", \"19años\", \"20años\", \"21años\", \"22años\", \"23años\", \"24años\", \"25años\", \"26años\", \"27años\", \"28años\", \"29años\", \"30añosymás\"]\n",
        "\n",
        "for col in cols:\n",
        "    df[col] = pd.to_numeric(df[col], errors='coerce').fillna(0).astype(int)\n",
        "\n",
        "print (df[cols])"
      ],
      "metadata": {
        "colab": {
          "base_uri": "https://localhost:8080/"
        },
        "id": "i6Mf35nor6hZ",
        "outputId": "195a3da3-8239-4e1c-c3d3-6c6788c90bee"
      },
      "execution_count": 10,
      "outputs": [
        {
          "output_type": "stream",
          "name": "stdout",
          "text": [
            "      0años  1año  2años  3años  4años  5años  6años  7años  8años  9años  \\\n",
            "0         0     0      0      0      0      0   5842     19      2      0   \n",
            "1         0     0      0      0      0      0      0      0      0      0   \n",
            "2         0     0      0      0      0      0      0      0      0      0   \n",
            "3         0     0      0      0      0      0      0      0      0      0   \n",
            "4         0     0      0      0      0      0      0      0      0      0   \n",
            "...     ...   ...    ...    ...    ...    ...    ...    ...    ...    ...   \n",
            "2003      0     0    787      0      0      0      0      0      0      0   \n",
            "2004      0     0      0   1752      2      0      0      0      0      0   \n",
            "2005      0     0      0      0   3139      2      0      0      0      0   \n",
            "2006      0     0      0      0      0   2795      0      0      0      0   \n",
            "2007      0     0      0      0      0      0      0      0      0      0   \n",
            "\n",
            "      ...  21años  22años  23años  24años  25años  26años  27años  28años  \\\n",
            "0     ...       0       0       0       0       0       0       0       0   \n",
            "1     ...       0       0       0       0       0       0       0       0   \n",
            "2     ...       0       0       0       0       0       0       0       0   \n",
            "3     ...       0       0       0       0       0       0       0       0   \n",
            "4     ...       0       0       0       0       0       0       0       0   \n",
            "...   ...     ...     ...     ...     ...     ...     ...     ...     ...   \n",
            "2003  ...       0       0       0       0       0       0       0       0   \n",
            "2004  ...       0       0       0       0       0       0       0       0   \n",
            "2005  ...       0       0       0       0       0       0       0       0   \n",
            "2006  ...       0       0       0       0       0       0       0       0   \n",
            "2007  ...     910     864     910     744     652     478     448     339   \n",
            "\n",
            "      29años  30añosymás  \n",
            "0          0           0  \n",
            "1          0           0  \n",
            "2          0           0  \n",
            "3          0           0  \n",
            "4          0           0  \n",
            "...      ...         ...  \n",
            "2003       0           0  \n",
            "2004       0           0  \n",
            "2005       0           0  \n",
            "2006       0           0  \n",
            "2007     284        1563  \n",
            "\n",
            "[2008 rows x 31 columns]\n"
          ]
        }
      ]
    },
    {
      "cell_type": "code",
      "source": [
        "df.dtypes"
      ],
      "metadata": {
        "colab": {
          "base_uri": "https://localhost:8080/",
          "height": 1000
        },
        "collapsed": true,
        "id": "A4sGF5PWP6CT",
        "outputId": "87815f8f-7418-4fec-a957-58e9d917048e"
      },
      "execution_count": 11,
      "outputs": [
        {
          "output_type": "execute_result",
          "data": {
            "text/plain": [
              "provincia       object\n",
              "departamento    object\n",
              "sector          object\n",
              "ambito          object\n",
              "grado           object\n",
              "0años            int64\n",
              "1año             int64\n",
              "2años            int64\n",
              "3años            int64\n",
              "4años            int64\n",
              "5años            int64\n",
              "6años            int64\n",
              "7años            int64\n",
              "8años            int64\n",
              "9años            int64\n",
              "10años           int64\n",
              "11años           int64\n",
              "12años           int64\n",
              "13años           int64\n",
              "14años           int64\n",
              "15años           int64\n",
              "16años           int64\n",
              "17años           int64\n",
              "18años           int64\n",
              "19años           int64\n",
              "20años           int64\n",
              "21años           int64\n",
              "22años           int64\n",
              "23años           int64\n",
              "24años           int64\n",
              "25años           int64\n",
              "26años           int64\n",
              "27años           int64\n",
              "28años           int64\n",
              "29años           int64\n",
              "30añosymás       int64\n",
              "dtype: object"
            ],
            "text/html": [
              "<div>\n",
              "<style scoped>\n",
              "    .dataframe tbody tr th:only-of-type {\n",
              "        vertical-align: middle;\n",
              "    }\n",
              "\n",
              "    .dataframe tbody tr th {\n",
              "        vertical-align: top;\n",
              "    }\n",
              "\n",
              "    .dataframe thead th {\n",
              "        text-align: right;\n",
              "    }\n",
              "</style>\n",
              "<table border=\"1\" class=\"dataframe\">\n",
              "  <thead>\n",
              "    <tr style=\"text-align: right;\">\n",
              "      <th></th>\n",
              "      <th>0</th>\n",
              "    </tr>\n",
              "  </thead>\n",
              "  <tbody>\n",
              "    <tr>\n",
              "      <th>provincia</th>\n",
              "      <td>object</td>\n",
              "    </tr>\n",
              "    <tr>\n",
              "      <th>departamento</th>\n",
              "      <td>object</td>\n",
              "    </tr>\n",
              "    <tr>\n",
              "      <th>sector</th>\n",
              "      <td>object</td>\n",
              "    </tr>\n",
              "    <tr>\n",
              "      <th>ambito</th>\n",
              "      <td>object</td>\n",
              "    </tr>\n",
              "    <tr>\n",
              "      <th>grado</th>\n",
              "      <td>object</td>\n",
              "    </tr>\n",
              "    <tr>\n",
              "      <th>0años</th>\n",
              "      <td>int64</td>\n",
              "    </tr>\n",
              "    <tr>\n",
              "      <th>1año</th>\n",
              "      <td>int64</td>\n",
              "    </tr>\n",
              "    <tr>\n",
              "      <th>2años</th>\n",
              "      <td>int64</td>\n",
              "    </tr>\n",
              "    <tr>\n",
              "      <th>3años</th>\n",
              "      <td>int64</td>\n",
              "    </tr>\n",
              "    <tr>\n",
              "      <th>4años</th>\n",
              "      <td>int64</td>\n",
              "    </tr>\n",
              "    <tr>\n",
              "      <th>5años</th>\n",
              "      <td>int64</td>\n",
              "    </tr>\n",
              "    <tr>\n",
              "      <th>6años</th>\n",
              "      <td>int64</td>\n",
              "    </tr>\n",
              "    <tr>\n",
              "      <th>7años</th>\n",
              "      <td>int64</td>\n",
              "    </tr>\n",
              "    <tr>\n",
              "      <th>8años</th>\n",
              "      <td>int64</td>\n",
              "    </tr>\n",
              "    <tr>\n",
              "      <th>9años</th>\n",
              "      <td>int64</td>\n",
              "    </tr>\n",
              "    <tr>\n",
              "      <th>10años</th>\n",
              "      <td>int64</td>\n",
              "    </tr>\n",
              "    <tr>\n",
              "      <th>11años</th>\n",
              "      <td>int64</td>\n",
              "    </tr>\n",
              "    <tr>\n",
              "      <th>12años</th>\n",
              "      <td>int64</td>\n",
              "    </tr>\n",
              "    <tr>\n",
              "      <th>13años</th>\n",
              "      <td>int64</td>\n",
              "    </tr>\n",
              "    <tr>\n",
              "      <th>14años</th>\n",
              "      <td>int64</td>\n",
              "    </tr>\n",
              "    <tr>\n",
              "      <th>15años</th>\n",
              "      <td>int64</td>\n",
              "    </tr>\n",
              "    <tr>\n",
              "      <th>16años</th>\n",
              "      <td>int64</td>\n",
              "    </tr>\n",
              "    <tr>\n",
              "      <th>17años</th>\n",
              "      <td>int64</td>\n",
              "    </tr>\n",
              "    <tr>\n",
              "      <th>18años</th>\n",
              "      <td>int64</td>\n",
              "    </tr>\n",
              "    <tr>\n",
              "      <th>19años</th>\n",
              "      <td>int64</td>\n",
              "    </tr>\n",
              "    <tr>\n",
              "      <th>20años</th>\n",
              "      <td>int64</td>\n",
              "    </tr>\n",
              "    <tr>\n",
              "      <th>21años</th>\n",
              "      <td>int64</td>\n",
              "    </tr>\n",
              "    <tr>\n",
              "      <th>22años</th>\n",
              "      <td>int64</td>\n",
              "    </tr>\n",
              "    <tr>\n",
              "      <th>23años</th>\n",
              "      <td>int64</td>\n",
              "    </tr>\n",
              "    <tr>\n",
              "      <th>24años</th>\n",
              "      <td>int64</td>\n",
              "    </tr>\n",
              "    <tr>\n",
              "      <th>25años</th>\n",
              "      <td>int64</td>\n",
              "    </tr>\n",
              "    <tr>\n",
              "      <th>26años</th>\n",
              "      <td>int64</td>\n",
              "    </tr>\n",
              "    <tr>\n",
              "      <th>27años</th>\n",
              "      <td>int64</td>\n",
              "    </tr>\n",
              "    <tr>\n",
              "      <th>28años</th>\n",
              "      <td>int64</td>\n",
              "    </tr>\n",
              "    <tr>\n",
              "      <th>29años</th>\n",
              "      <td>int64</td>\n",
              "    </tr>\n",
              "    <tr>\n",
              "      <th>30añosymás</th>\n",
              "      <td>int64</td>\n",
              "    </tr>\n",
              "  </tbody>\n",
              "</table>\n",
              "</div><br><label><b>dtype:</b> object</label>"
            ]
          },
          "metadata": {},
          "execution_count": 11
        }
      ]
    },
    {
      "cell_type": "code",
      "source": [
        "# Creo una columna llamada total donde se suman las columnas con cantidad de alumnos\n",
        "\n",
        "df[\"total\"] = df[cols].sum(axis=1)\n",
        "\n",
        "print (df[\"total\"])"
      ],
      "metadata": {
        "colab": {
          "base_uri": "https://localhost:8080/"
        },
        "id": "UkIrCtWgEN7u",
        "outputId": "09f17161-0841-4c0f-ab59-b8db169335f8"
      },
      "execution_count": 12,
      "outputs": [
        {
          "output_type": "stream",
          "name": "stdout",
          "text": [
            "0       5863\n",
            "1       6260\n",
            "2       5617\n",
            "3       4718\n",
            "4        313\n",
            "        ... \n",
            "2003     787\n",
            "2004    1754\n",
            "2005    3141\n",
            "2006    2795\n",
            "2007    9585\n",
            "Name: total, Length: 2008, dtype: int64\n"
          ]
        }
      ]
    },
    {
      "cell_type": "code",
      "source": [
        "sns.set_theme(style=\"darkgrid\")"
      ],
      "metadata": {
        "id": "FBfKs1eeN8pH"
      },
      "execution_count": 37,
      "outputs": []
    },
    {
      "cell_type": "code",
      "source": [
        "# Agrupo por provincia y sector, y sumo la columna total creada en el paso anterior\n",
        "# Genero el grafico de barras\n",
        "\n",
        "df_agrupado = (df.groupby([\"provincia\", \"sector\"], as_index=False).agg({\"total\": \"sum\"}))\n",
        "\n",
        "plt.figure(figsize=(12,6))\n",
        "sns.barplot(data=df_agrupado,\n",
        "    x=\"provincia\",\n",
        "    y=\"total\",\n",
        "    hue=\"sector\",\n",
        "    palette=\"Set2\")\n",
        "\n",
        "plt.title(\"Cantidad total de gestión estatal y privada por provincia\")\n",
        "plt.ylabel(\"Cantidad total\")\n",
        "plt.xlabel(\"Provincia\")\n",
        "plt.show()\n"
      ],
      "metadata": {
        "colab": {
          "base_uri": "https://localhost:8080/",
          "height": 565
        },
        "id": "-g-7vr-4PBwE",
        "outputId": "f81501a8-dc2d-4dcf-d9f1-4e1e35639f31"
      },
      "execution_count": 42,
      "outputs": [
        {
          "output_type": "display_data",
          "data": {
            "text/plain": [
              "<Figure size 1200x600 with 1 Axes>"
            ],
            "image/png": "[encoded data removed]"
          },
          "metadata": {}
        }
      ]
    }
  ]
}